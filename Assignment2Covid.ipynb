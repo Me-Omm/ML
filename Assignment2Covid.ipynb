{
 "cells": [
  {
   "cell_type": "code",
   "execution_count": 10,
   "id": "71233be2-7e04-466f-8006-ec65f890315c",
   "metadata": {},
   "outputs": [],
   "source": [
    "import pandas as pd\n",
    "import numpy as np"
   ]
  },
  {
   "cell_type": "code",
   "execution_count": 12,
   "id": "f93507d1-2f60-4658-be97-bbbce5e3dc3e",
   "metadata": {},
   "outputs": [
    {
     "data": {
      "text/html": [
       "<div>\n",
       "<style scoped>\n",
       "    .dataframe tbody tr th:only-of-type {\n",
       "        vertical-align: middle;\n",
       "    }\n",
       "\n",
       "    .dataframe tbody tr th {\n",
       "        vertical-align: top;\n",
       "    }\n",
       "\n",
       "    .dataframe thead th {\n",
       "        text-align: right;\n",
       "    }\n",
       "</style>\n",
       "<table border=\"1\" class=\"dataframe\">\n",
       "  <thead>\n",
       "    <tr style=\"text-align: right;\">\n",
       "      <th></th>\n",
       "      <th>Actual</th>\n",
       "      <th>Predicted</th>\n",
       "    </tr>\n",
       "  </thead>\n",
       "  <tbody>\n",
       "    <tr>\n",
       "      <th>0</th>\n",
       "      <td>Positive</td>\n",
       "      <td>Positive</td>\n",
       "    </tr>\n",
       "    <tr>\n",
       "      <th>1</th>\n",
       "      <td>Positive</td>\n",
       "      <td>Positive</td>\n",
       "    </tr>\n",
       "    <tr>\n",
       "      <th>2</th>\n",
       "      <td>Positive</td>\n",
       "      <td>Positive</td>\n",
       "    </tr>\n",
       "    <tr>\n",
       "      <th>3</th>\n",
       "      <td>Positive</td>\n",
       "      <td>Positive</td>\n",
       "    </tr>\n",
       "    <tr>\n",
       "      <th>4</th>\n",
       "      <td>Positive</td>\n",
       "      <td>Positive</td>\n",
       "    </tr>\n",
       "  </tbody>\n",
       "</table>\n",
       "</div>"
      ],
      "text/plain": [
       "     Actual Predicted\n",
       "0  Positive  Positive\n",
       "1  Positive  Positive\n",
       "2  Positive  Positive\n",
       "3  Positive  Positive\n",
       "4  Positive  Positive"
      ]
     },
     "execution_count": 12,
     "metadata": {},
     "output_type": "execute_result"
    }
   ],
   "source": [
    "data = pd.read_excel(\"D:/SEM-5/ML/Assignments/My Codes/covid_dataset_500_entries.xlsx\")\n",
    "data.head()"
   ]
  },
  {
   "cell_type": "code",
   "execution_count": 13,
   "id": "b24d5353-19d3-49e6-9572-2dff72f5013b",
   "metadata": {},
   "outputs": [
    {
     "name": "stdout",
     "output_type": "stream",
     "text": [
      "The shape of the dataset is : (500, 2)\n"
     ]
    }
   ],
   "source": [
    "print(\"The shape of the dataset is :\",data.shape)"
   ]
  },
  {
   "cell_type": "code",
   "execution_count": 14,
   "id": "874c388b-9e7a-45a1-a1e6-b5915fb18c8d",
   "metadata": {},
   "outputs": [
    {
     "data": {
      "text/plain": [
       "Actual       0\n",
       "Predicted    0\n",
       "dtype: int64"
      ]
     },
     "execution_count": 14,
     "metadata": {},
     "output_type": "execute_result"
    }
   ],
   "source": [
    "#No. of missing values in the set   //basically data cleaining\n",
    "data.isnull().sum()"
   ]
  },
  {
   "cell_type": "code",
   "execution_count": 18,
   "id": "f733e453-804b-4959-ad14-cbe255f6f544",
   "metadata": {},
   "outputs": [],
   "source": [
    "data['Actual'] = data['Actual'].map({\"Positive\":1,\"Negative\":0})\n",
    "data['Predicted'] = data['Predicted'].map({\"Positive\":1,\"Negative\":0})"
   ]
  },
  {
   "cell_type": "code",
   "execution_count": 20,
   "id": "115bc365-b227-4b96-84a2-e505642f7eee",
   "metadata": {},
   "outputs": [
    {
     "data": {
      "text/html": [
       "<div>\n",
       "<style scoped>\n",
       "    .dataframe tbody tr th:only-of-type {\n",
       "        vertical-align: middle;\n",
       "    }\n",
       "\n",
       "    .dataframe tbody tr th {\n",
       "        vertical-align: top;\n",
       "    }\n",
       "\n",
       "    .dataframe thead th {\n",
       "        text-align: right;\n",
       "    }\n",
       "</style>\n",
       "<table border=\"1\" class=\"dataframe\">\n",
       "  <thead>\n",
       "    <tr style=\"text-align: right;\">\n",
       "      <th></th>\n",
       "      <th>Actual</th>\n",
       "      <th>Predicted</th>\n",
       "    </tr>\n",
       "  </thead>\n",
       "  <tbody>\n",
       "    <tr>\n",
       "      <th>0</th>\n",
       "      <td>1</td>\n",
       "      <td>1</td>\n",
       "    </tr>\n",
       "    <tr>\n",
       "      <th>1</th>\n",
       "      <td>1</td>\n",
       "      <td>1</td>\n",
       "    </tr>\n",
       "    <tr>\n",
       "      <th>2</th>\n",
       "      <td>1</td>\n",
       "      <td>1</td>\n",
       "    </tr>\n",
       "    <tr>\n",
       "      <th>3</th>\n",
       "      <td>1</td>\n",
       "      <td>1</td>\n",
       "    </tr>\n",
       "    <tr>\n",
       "      <th>4</th>\n",
       "      <td>1</td>\n",
       "      <td>1</td>\n",
       "    </tr>\n",
       "  </tbody>\n",
       "</table>\n",
       "</div>"
      ],
      "text/plain": [
       "   Actual  Predicted\n",
       "0       1          1\n",
       "1       1          1\n",
       "2       1          1\n",
       "3       1          1\n",
       "4       1          1"
      ]
     },
     "execution_count": 20,
     "metadata": {},
     "output_type": "execute_result"
    }
   ],
   "source": [
    "data.head()"
   ]
  },
  {
   "cell_type": "code",
   "execution_count": 22,
   "id": "00be51ab-efd6-4e72-8c31-6f66321e1c04",
   "metadata": {},
   "outputs": [],
   "source": [
    "X=data['Actual']\n",
    "Y=data['Predicted']"
   ]
  },
  {
   "cell_type": "code",
   "execution_count": 24,
   "id": "881c5c2c-8c51-479a-9e2c-e1d12f9c4bd9",
   "metadata": {},
   "outputs": [],
   "source": [
    "from sklearn.metrics import accuracy_score,precision_score,recall_score,f1_score"
   ]
  },
  {
   "cell_type": "code",
   "execution_count": 25,
   "id": "2ef03a79-a6cd-48d1-9257-68d649996326",
   "metadata": {},
   "outputs": [],
   "source": [
    "accuracy = accuracy_score(X,Y)\n",
    "precision = precision_score(X,Y)\n",
    "recall = recall_score(X,Y)\n",
    "f1 = f1_score(X,Y)"
   ]
  },
  {
   "cell_type": "code",
   "execution_count": 26,
   "id": "5edec874-0e57-44fa-b28b-87412dccdad1",
   "metadata": {},
   "outputs": [
    {
     "name": "stdout",
     "output_type": "stream",
     "text": [
      "Accuracy : 0.88\n",
      "Precision : 0.45\n",
      "Recall : 0.9\n",
      "F1 Score : 0.6\n"
     ]
    }
   ],
   "source": [
    "print(\"Accuracy :\",accuracy)\n",
    "print(\"Precision :\",precision)\n",
    "print(\"Recall :\",recall)\n",
    "print(\"F1 Score :\",f1 )"
   ]
  },
  {
   "cell_type": "code",
   "execution_count": 27,
   "id": "3c7ed87c-27bb-4345-b8eb-9d6a82c3f814",
   "metadata": {},
   "outputs": [],
   "source": [
    "from sklearn.metrics import confusion_matrix"
   ]
  },
  {
   "cell_type": "code",
   "execution_count": 28,
   "id": "28e86bf5-4447-43e7-ac25-c7406f989335",
   "metadata": {},
   "outputs": [],
   "source": [
    "tn,fp,fn,tp = confusion_matrix(X,Y).ravel()"
   ]
  },
  {
   "cell_type": "code",
   "execution_count": 29,
   "id": "86711e6c-1c84-459f-adbf-266202676fe3",
   "metadata": {},
   "outputs": [],
   "source": [
    "conf_matrix = np.array([[tn,fp],[fn,tp]])"
   ]
  },
  {
   "cell_type": "code",
   "execution_count": 30,
   "id": "84f064f9-604f-4755-a457-6fb934433305",
   "metadata": {},
   "outputs": [],
   "source": [
    "import seaborn as sea\n",
    "import matplotlib.pyplot as plt"
   ]
  },
  {
   "cell_type": "code",
   "execution_count": 35,
   "id": "44305d8d-6d89-4a92-85f5-6f256a6622bd",
   "metadata": {
    "scrolled": true
   },
   "outputs": [
    {
     "data": {
      "image/png": "[encoded data removed]",
      "text/plain": [
       "<Figure size 800x600 with 2 Axes>"
      ]
     },
     "metadata": {},
     "output_type": "display_data"
    }
   ],
   "source": [
    "plt.figure(figsize = (8,6))\n",
    "sea.heatmap(conf_matrix,annot=True,fmt='d')\n",
    "plt.xlabel('Predicted')\n",
    "plt.ylabel('Actual')\n",
    "plt.title('Confusion Matrix')\n",
    "plt.show()"
   ]
  },
  {
   "cell_type": "code",
   "execution_count": 38,
   "id": "686c01c5-d550-4d61-ae64-ac772c4af173",
   "metadata": {},
   "outputs": [
    {
     "name": "stdout",
     "output_type": "stream",
     "text": [
      "Result of confusion Matrix is :\n",
      "True Negative = 395\n",
      "False Positive = 55\n",
      "False Negative = 5\n",
      "True Positive = 45\n"
     ]
    }
   ],
   "source": [
    "print(\"Result of confusion Matrix is :\")\n",
    "print(\"True Negative =\",tn)\n",
    "print(\"False Positive =\",fp)\n",
    "print(\"False Negative =\",fn)\n",
    "print(\"True Positive =\",tp)"
   ]
  },
  {
   "cell_type": "code",
   "execution_count": null,
   "id": "b5bb2d7d-9645-4f75-a0c6-1b1f602ba0e2",
   "metadata": {},
   "outputs": [],
   "source": []
  },
  {
   "cell_type": "code",
   "execution_count": null,
   "id": "a45f9555-b880-49c8-873c-1894fe488172",
   "metadata": {},
   "outputs": [],
   "source": []
  }
 ],
 "metadata": {
  "kernelspec": {
   "display_name": "Python 3 (ipykernel)",
   "language": "python",
   "name": "python3"
  },
  "language_info": {
   "codemirror_mode": {
    "name": "ipython",
    "version": 3
   },
   "file_extension": ".py",
   "mimetype": "text/x-python",
   "name": "python",
   "nbconvert_exporter": "python",
   "pygments_lexer": "ipython3",
   "version": "3.12.4"
  }
 },
 "nbformat": 4,
 "nbformat_minor": 5
}
